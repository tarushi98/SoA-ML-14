{
  "nbformat": 4,
  "nbformat_minor": 0,
  "metadata": {
    "colab": {
      "name": "week_7.ipynb",
      "provenance": []
    },
    "kernelspec": {
      "display_name": "Python 3",
      "language": "python",
      "name": "python3"
    },
    "language_info": {
      "codemirror_mode": {
        "name": "ipython",
        "version": 3
      },
      "file_extension": ".py",
      "mimetype": "text/x-python",
      "name": "python",
      "nbconvert_exporter": "python",
      "pygments_lexer": "ipython3",
      "version": "3.7.1"
    }
  },
  "cells": [
    {
      "cell_type": "markdown",
      "metadata": {
        "id": "621rKCsGI8ru",
        "colab_type": "text"
      },
      "source": [
        "**<h1> Week 7**\n",
        "   \n",
        "We'll be covering the following topics in this week:\n",
        "\n",
        "1) Dimensionality Reduction:\n",
        "* PCA\n",
        "* LDA\n",
        "* Kernel PCA\n",
        "\n",
        "2) Model Selection\n",
        "* K fold cross validation\n",
        "* Grid Search CV\n",
        "* Stacking"
      ]
    },
    {
      "cell_type": "markdown",
      "metadata": {
        "id": "WeouPBk_I8rx",
        "colab_type": "text"
      },
      "source": [
        "**<h2> Introduction to Dimensionality Reduction**\n",
        "    \n",
        "Dimensionality Reduction means reducing the number of features(columns) in a given dataset.\n",
        "Imagine working with a dataset with nearly 20000 features. Having so many features makes it problematic to\n",
        "draw insights from the data. It’s not feasible to analyze each and every variable at a microscopic level. \n",
        "\n",
        "**<h2> Why is Dimensionality Reduction important?**\n",
        "    \n",
        "* It helps reduce the amount of space required to store the data.\n",
        "* Less dimensions result into less computation time.\n",
        "* It helps improve the performance of the ML models by removing redundant features/columns.\n",
        "\n",
        "**<h2> How is Dimensionality Reduction implemented?**\n",
        "    \n",
        "It can be done in two different ways:\n",
        "\n",
        "* By removing the irrelevant features from the dataset. This is also known as feature selection.\n",
        "* By finding new input variables which are derived by combining the earlier inputted variables.\n"
      ]
    },
    {
      "cell_type": "markdown",
      "metadata": {
        "id": "xe3jK0fmI8rz",
        "colab_type": "text"
      },
      "source": [
        "In this week, we'll be covering the following Dimensionality Reduction techniques:\n",
        "* PCA\n",
        "* Kernel PCA \n",
        "* LDA"
      ]
    },
    {
      "cell_type": "markdown",
      "metadata": {
        "colab_type": "text",
        "id": "FliLt2mycxU0"
      },
      "source": [
        "**<h2>Principal Component Analysis**\n",
        "    \n",
        "Principal Analysis combines existing variables to form new variables. These newly extracted variables are addressed as Principal Components.A principal component is a linear combination of the original variables.Principal components are extracted in such a way that the first principal component explains maximum variance in the dataset.Second principal component tries to explain the remaining variance in the dataset and is uncorrelated to the first principal component.Third principal component tries to explain the variance which is not explained by the first two principal components and so on.\n",
        "\n",
        "Check out this link [article](https://www.analyticsvidhya.com/blog/2016/03/pca-practical-guide-principal-component-analysis-python/) to know more about **PCA** ."
      ]
    },
    {
      "cell_type": "code",
      "metadata": {
        "colab_type": "code",
        "id": "Nz_Q7PKmcxU2",
        "colab": {}
      },
      "source": [
        "import numpy as np\n",
        "import matplotlib.pyplot as plt\n",
        "import pandas as pd\n",
        "from sklearn.model_selection import train_test_split\n",
        "from sklearn.preprocessing import StandardScaler\n",
        "from sklearn.metrics import confusion_matrix\n",
        "from sklearn.linear_model import LogisticRegression"
      ],
      "execution_count": null,
      "outputs": []
    },
    {
      "cell_type": "code",
      "metadata": {
        "id": "IdP5-zRXI8sD",
        "colab_type": "code",
        "colab": {}
      },
      "source": [
        "def report_classification(test,pred):\n",
        "    from sklearn.metrics import classification_report\n",
        "    return (classification_report(test,pred))\n",
        "    "
      ],
      "execution_count": null,
      "outputs": []
    },
    {
      "cell_type": "code",
      "metadata": {
        "colab_type": "code",
        "id": "poa8KkyPcxVD",
        "colab": {
          "base_uri": "https://localhost:8080/",
          "height": 226
        },
        "outputId": "ed704d4b-91f1-403c-e5f6-3b29823d2290"
      },
      "source": [
        "url=('https://raw.githubusercontent.com/kabirnagpal/SoA-ML-14/master/data/Wine.csv')\n",
        "dataset = pd.read_csv(url)\n",
        "dataset.head()"
      ],
      "execution_count": null,
      "outputs": [
        {
          "output_type": "execute_result",
          "data": {
            "text/html": [
              "<div>\n",
              "<style scoped>\n",
              "    .dataframe tbody tr th:only-of-type {\n",
              "        vertical-align: middle;\n",
              "    }\n",
              "\n",
              "    .dataframe tbody tr th {\n",
              "        vertical-align: top;\n",
              "    }\n",
              "\n",
              "    .dataframe thead th {\n",
              "        text-align: right;\n",
              "    }\n",
              "</style>\n",
              "<table border=\"1\" class=\"dataframe\">\n",
              "  <thead>\n",
              "    <tr style=\"text-align: right;\">\n",
              "      <th></th>\n",
              "      <th>Alcohol</th>\n",
              "      <th>Malic_Acid</th>\n",
              "      <th>Ash</th>\n",
              "      <th>Ash_Alcanity</th>\n",
              "      <th>Magnesium</th>\n",
              "      <th>Total_Phenols</th>\n",
              "      <th>Flavanoids</th>\n",
              "      <th>Nonflavanoid_Phenols</th>\n",
              "      <th>Proanthocyanins</th>\n",
              "      <th>Color_Intensity</th>\n",
              "      <th>Hue</th>\n",
              "      <th>OD280</th>\n",
              "      <th>Proline</th>\n",
              "      <th>Customer_Segment</th>\n",
              "    </tr>\n",
              "  </thead>\n",
              "  <tbody>\n",
              "    <tr>\n",
              "      <th>0</th>\n",
              "      <td>14.23</td>\n",
              "      <td>1.71</td>\n",
              "      <td>2.43</td>\n",
              "      <td>15.6</td>\n",
              "      <td>127</td>\n",
              "      <td>2.80</td>\n",
              "      <td>3.06</td>\n",
              "      <td>0.28</td>\n",
              "      <td>2.29</td>\n",
              "      <td>5.64</td>\n",
              "      <td>1.04</td>\n",
              "      <td>3.92</td>\n",
              "      <td>1065</td>\n",
              "      <td>1</td>\n",
              "    </tr>\n",
              "    <tr>\n",
              "      <th>1</th>\n",
              "      <td>13.20</td>\n",
              "      <td>1.78</td>\n",
              "      <td>2.14</td>\n",
              "      <td>11.2</td>\n",
              "      <td>100</td>\n",
              "      <td>2.65</td>\n",
              "      <td>2.76</td>\n",
              "      <td>0.26</td>\n",
              "      <td>1.28</td>\n",
              "      <td>4.38</td>\n",
              "      <td>1.05</td>\n",
              "      <td>3.40</td>\n",
              "      <td>1050</td>\n",
              "      <td>1</td>\n",
              "    </tr>\n",
              "    <tr>\n",
              "      <th>2</th>\n",
              "      <td>13.16</td>\n",
              "      <td>2.36</td>\n",
              "      <td>2.67</td>\n",
              "      <td>18.6</td>\n",
              "      <td>101</td>\n",
              "      <td>2.80</td>\n",
              "      <td>3.24</td>\n",
              "      <td>0.30</td>\n",
              "      <td>2.81</td>\n",
              "      <td>5.68</td>\n",
              "      <td>1.03</td>\n",
              "      <td>3.17</td>\n",
              "      <td>1185</td>\n",
              "      <td>1</td>\n",
              "    </tr>\n",
              "    <tr>\n",
              "      <th>3</th>\n",
              "      <td>14.37</td>\n",
              "      <td>1.95</td>\n",
              "      <td>2.50</td>\n",
              "      <td>16.8</td>\n",
              "      <td>113</td>\n",
              "      <td>3.85</td>\n",
              "      <td>3.49</td>\n",
              "      <td>0.24</td>\n",
              "      <td>2.18</td>\n",
              "      <td>7.80</td>\n",
              "      <td>0.86</td>\n",
              "      <td>3.45</td>\n",
              "      <td>1480</td>\n",
              "      <td>1</td>\n",
              "    </tr>\n",
              "    <tr>\n",
              "      <th>4</th>\n",
              "      <td>13.24</td>\n",
              "      <td>2.59</td>\n",
              "      <td>2.87</td>\n",
              "      <td>21.0</td>\n",
              "      <td>118</td>\n",
              "      <td>2.80</td>\n",
              "      <td>2.69</td>\n",
              "      <td>0.39</td>\n",
              "      <td>1.82</td>\n",
              "      <td>4.32</td>\n",
              "      <td>1.04</td>\n",
              "      <td>2.93</td>\n",
              "      <td>735</td>\n",
              "      <td>1</td>\n",
              "    </tr>\n",
              "  </tbody>\n",
              "</table>\n",
              "</div>"
            ],
            "text/plain": [
              "   Alcohol  Malic_Acid   Ash  ...  OD280  Proline  Customer_Segment\n",
              "0    14.23        1.71  2.43  ...   3.92     1065                 1\n",
              "1    13.20        1.78  2.14  ...   3.40     1050                 1\n",
              "2    13.16        2.36  2.67  ...   3.17     1185                 1\n",
              "3    14.37        1.95  2.50  ...   3.45     1480                 1\n",
              "4    13.24        2.59  2.87  ...   2.93      735                 1\n",
              "\n",
              "[5 rows x 14 columns]"
            ]
          },
          "metadata": {
            "tags": []
          },
          "execution_count": 3
        }
      ]
    },
    {
      "cell_type": "code",
      "metadata": {
        "colab_type": "code",
        "id": "Dqdxh6xmcxVJ",
        "colab": {}
      },
      "source": [
        "X = dataset.iloc[:, 0:-1].values\n",
        "y = dataset.iloc[:, -1].values"
      ],
      "execution_count": null,
      "outputs": []
    },
    {
      "cell_type": "code",
      "metadata": {
        "colab_type": "code",
        "id": "B7wYzNOpcxVT",
        "colab": {}
      },
      "source": [
        "X_train, X_test, y_train, y_test = train_test_split(X, y, test_size = 0.2, random_state = 0)"
      ],
      "execution_count": null,
      "outputs": []
    },
    {
      "cell_type": "code",
      "metadata": {
        "colab_type": "code",
        "id": "aCwtaEGCcxVY",
        "colab": {}
      },
      "source": [
        "sc = StandardScaler()\n",
        "X_train = sc.fit_transform(X_train)\n",
        "X_test = sc.transform(X_test)"
      ],
      "execution_count": null,
      "outputs": []
    },
    {
      "cell_type": "markdown",
      "metadata": {
        "colab_type": "text",
        "id": "KNHsoW11cxVh"
      },
      "source": [
        "The maximum number of columns we can use is equal to total number of columns.  \n",
        "Let's observe variance along all the columns."
      ]
    },
    {
      "cell_type": "code",
      "metadata": {
        "colab_type": "code",
        "id": "oorEFOnqcxVi",
        "colab": {
          "base_uri": "https://localhost:8080/",
          "height": 72
        },
        "outputId": "8fe45670-6979-49b2-a840-19fdfef0e2d9"
      },
      "source": [
        "classifier = LogisticRegression()\n",
        "classifier.fit(X_train, y_train)\n",
        "\n",
        "\n",
        "y_pred = classifier.predict(X_test)\n",
        "\n",
        "\n",
        "confusion_matrix(y_test, y_pred)"
      ],
      "execution_count": null,
      "outputs": [
        {
          "output_type": "execute_result",
          "data": {
            "text/plain": [
              "array([[14,  0,  0],\n",
              "       [ 0, 16,  0],\n",
              "       [ 0,  0,  6]])"
            ]
          },
          "metadata": {
            "tags": []
          },
          "execution_count": 7
        }
      ]
    },
    {
      "cell_type": "code",
      "metadata": {
        "colab_type": "code",
        "id": "gKqOLRuFcxVn",
        "colab": {
          "base_uri": "https://localhost:8080/",
          "height": 72
        },
        "outputId": "a1169569-df2b-4490-bdbd-608fa75cd3cd"
      },
      "source": [
        "from sklearn.decomposition import PCA\n",
        "pca = PCA(n_components = None)\n",
        "X_train = pca.fit_transform(X_train)\n",
        "X_test = pca.transform(X_test)\n",
        "pca.explained_variance_ratio_"
      ],
      "execution_count": null,
      "outputs": [
        {
          "output_type": "execute_result",
          "data": {
            "text/plain": [
              "array([0.36884109, 0.19318394, 0.10752862, 0.07421996, 0.06245904,\n",
              "       0.04909   , 0.04117287, 0.02495984, 0.02308855, 0.01864124,\n",
              "       0.01731766, 0.01252785, 0.00696933])"
            ]
          },
          "metadata": {
            "tags": []
          },
          "execution_count": 8
        }
      ]
    },
    {
      "cell_type": "markdown",
      "metadata": {
        "colab_type": "text",
        "id": "JgnbL80_cxVs"
      },
      "source": [
        "Let's try using only two of these columns.  \n",
        "Hence, we reduced the number of columns to 2."
      ]
    },
    {
      "cell_type": "code",
      "metadata": {
        "colab_type": "code",
        "id": "3CROYjq-cxVt",
        "colab": {}
      },
      "source": [
        "pca = PCA(n_components = 2)\n",
        "X_train = pca.fit_transform(X_train)\n",
        "X_test = pca.transform(X_test)"
      ],
      "execution_count": null,
      "outputs": []
    },
    {
      "cell_type": "code",
      "metadata": {
        "colab_type": "code",
        "id": "hYxZG62XcxVy",
        "scrolled": false,
        "colab": {
          "base_uri": "https://localhost:8080/",
          "height": 199
        },
        "outputId": "00a249ea-8e97-4e60-9e6d-817ea53b4952"
      },
      "source": [
        "X_train[:10]"
      ],
      "execution_count": null,
      "outputs": [
        {
          "output_type": "execute_result",
          "data": {
            "text/plain": [
              "array([[-2.17884511, -1.07218467],\n",
              "       [-1.80819239,  1.57822344],\n",
              "       [ 1.09829474,  2.22124345],\n",
              "       [-2.55584748, -1.66210369],\n",
              "       [ 1.85698063,  0.24157317],\n",
              "       [ 2.58288576, -1.3766817 ],\n",
              "       [ 0.87287612,  2.25618512],\n",
              "       [-0.41838403,  2.35415681],\n",
              "       [-0.30497725,  2.27659433],\n",
              "       [ 2.14082532, -1.10052871]])"
            ]
          },
          "metadata": {
            "tags": []
          },
          "execution_count": 10
        }
      ]
    },
    {
      "cell_type": "markdown",
      "metadata": {
        "colab_type": "text",
        "id": "O2tRMPBscxV3"
      },
      "source": [
        "From the above data, you can clearly make out the difference between this data and the one we were using before."
      ]
    },
    {
      "cell_type": "code",
      "metadata": {
        "colab_type": "code",
        "id": "KbjRRaOXcxV4",
        "colab": {
          "base_uri": "https://localhost:8080/",
          "height": 72
        },
        "outputId": "1d6f7846-57d0-475d-b54a-1ce6ba8ad286"
      },
      "source": [
        "classifier = LogisticRegression()\n",
        "classifier.fit(X_train, y_train)\n",
        "\n",
        "\n",
        "y_pred = classifier.predict(X_test)\n",
        "\n",
        "\n",
        "confusion_matrix(y_test, y_pred)"
      ],
      "execution_count": null,
      "outputs": [
        {
          "output_type": "execute_result",
          "data": {
            "text/plain": [
              "array([[14,  0,  0],\n",
              "       [ 1, 15,  0],\n",
              "       [ 0,  0,  6]])"
            ]
          },
          "metadata": {
            "tags": []
          },
          "execution_count": 11
        }
      ]
    },
    {
      "cell_type": "code",
      "metadata": {
        "id": "2A34AV9mJcIU",
        "colab_type": "code",
        "colab": {
          "base_uri": "https://localhost:8080/",
          "height": 199
        },
        "outputId": "e61eb057-3f19-4c84-c249-83daf68016f9"
      },
      "source": [
        "print(report_classification(y_test,y_pred))"
      ],
      "execution_count": null,
      "outputs": [
        {
          "output_type": "stream",
          "text": [
            "              precision    recall  f1-score   support\n",
            "\n",
            "           1       0.93      1.00      0.97        14\n",
            "           2       1.00      0.94      0.97        16\n",
            "           3       1.00      1.00      1.00         6\n",
            "\n",
            "    accuracy                           0.97        36\n",
            "   macro avg       0.98      0.98      0.98        36\n",
            "weighted avg       0.97      0.97      0.97        36\n",
            "\n"
          ],
          "name": "stdout"
        }
      ]
    },
    {
      "cell_type": "markdown",
      "metadata": {
        "colab_type": "text",
        "id": "o7QvnANPcxV-"
      },
      "source": [
        "**<h2> Linear Discriminant Analysis**\n",
        "\n",
        "Linear Discriminant Analysis, like PCA , is a Dimensionality Reduction Technique.It focuses upon maximizing seperatibility among known categories.More formally, given a number of independent features relative to which the data is described,LDA creates a linear combination of those which yield the largest mean difference between the desired classes.\n",
        "\n",
        "\n",
        "Consider a 2D graph with variables X and Y. Using LDA one can transform this graph into a 1D graph. This is done by creating an axis with an intend to increase separatibility between the variables and plotting it on the 2D graph. Then, the given distribution is projected on this axis, thereby converting it into a 1D graph.\n",
        "\n",
        "Check out this [tutorial](https://www.youtube.com/watch?v=azXCzI57Yfc) or [article](https://www.geeksforgeeks.org/ml-principal-component-analysispca/) to know more about **LDA** .\n"
      ]
    },
    {
      "cell_type": "code",
      "metadata": {
        "colab_type": "code",
        "id": "R_q9w99-cxWC",
        "colab": {}
      },
      "source": [
        "X_train, X_test, y_train, y_test = train_test_split(X, y, test_size = 0.2, random_state = 0)"
      ],
      "execution_count": null,
      "outputs": []
    },
    {
      "cell_type": "code",
      "metadata": {
        "colab_type": "code",
        "id": "0iT9HVDCcxWG",
        "colab": {}
      },
      "source": [
        "from sklearn.discriminant_analysis import LinearDiscriminantAnalysis as LDA\n",
        "\n",
        "lda = LDA(n_components = 2)\n",
        "X_train = lda.fit_transform(X_train, y_train)\n",
        "X_test = lda.transform(X_test)"
      ],
      "execution_count": null,
      "outputs": []
    },
    {
      "cell_type": "code",
      "metadata": {
        "colab_type": "code",
        "id": "-tiy2bsQcxWL",
        "colab": {
          "base_uri": "https://localhost:8080/",
          "height": 199
        },
        "outputId": "15237050-e2b3-43b9-c12c-369a9b006dcc"
      },
      "source": [
        "X_train[:10,:]"
      ],
      "execution_count": null,
      "outputs": [
        {
          "output_type": "execute_result",
          "data": {
            "text/plain": [
              "array([[ 3.57315552,  1.94018924],\n",
              "       [ 0.85475898, -2.08182977],\n",
              "       [ 0.62173655, -3.06234453],\n",
              "       [ 4.80786412,  2.00638739],\n",
              "       [-3.8579759 ,  0.14987256],\n",
              "       [-3.59455458,  1.24961706],\n",
              "       [-0.53772906, -3.0852704 ],\n",
              "       [ 0.04058577, -2.47312446],\n",
              "       [ 0.99835348, -3.36989668],\n",
              "       [-3.74095658,  1.94844242]])"
            ]
          },
          "metadata": {
            "tags": []
          },
          "execution_count": 16
        }
      ]
    },
    {
      "cell_type": "code",
      "metadata": {
        "colab_type": "code",
        "id": "g6npX0rpcxWT",
        "colab": {
          "base_uri": "https://localhost:8080/",
          "height": 72
        },
        "outputId": "a322fa6b-0f44-42fd-fe1d-a76d79c50aef"
      },
      "source": [
        "classifier = LogisticRegression()\n",
        "classifier.fit(X_train, y_train)\n",
        "\n",
        "\n",
        "y_pred = classifier.predict(X_test)\n",
        "\n",
        "confusion_matrix(y_test, y_pred)"
      ],
      "execution_count": null,
      "outputs": [
        {
          "output_type": "execute_result",
          "data": {
            "text/plain": [
              "array([[14,  0,  0],\n",
              "       [ 0, 16,  0],\n",
              "       [ 0,  0,  6]])"
            ]
          },
          "metadata": {
            "tags": []
          },
          "execution_count": 17
        }
      ]
    },
    {
      "cell_type": "markdown",
      "metadata": {
        "colab_type": "text",
        "id": "RndFeu4ZcxWY"
      },
      "source": [
        "**<h2> Kernel PCA**\n",
        "\n",
        "PCA is can only applied on data which is linearly separable.It cannot be used on non linear data.Here, Kernel PCA steps in. For a non linear dataset , the Kernel PCA uses a kernel function to project dataset into higher dimension feature space, from where it becomes linearly separable.\n",
        "\n",
        "Check out this [article](https://www.geeksforgeeks.org/ml-introduction-to-kernel-pca/) to know more."
      ]
    },
    {
      "cell_type": "markdown",
      "metadata": {
        "id": "isK_6uejNR1Q",
        "colab_type": "text"
      },
      "source": [
        "**<h3> KernelPCA with a linear PCA**"
      ]
    },
    {
      "cell_type": "code",
      "metadata": {
        "colab_type": "code",
        "id": "6nZ-NBL_cxWZ",
        "colab": {
          "base_uri": "https://localhost:8080/",
          "height": 206
        },
        "outputId": "2d7b10fb-7525-4d67-e189-fff643b0de97"
      },
      "source": [
        "url=('https://raw.githubusercontent.com/kabirnagpal/SoA-ML-14/master/data/Social_Network_Ads.csv')\n",
        "dataset = pd.read_csv(url)\n",
        "dataset.head()"
      ],
      "execution_count": null,
      "outputs": [
        {
          "output_type": "execute_result",
          "data": {
            "text/html": [
              "<div>\n",
              "<style scoped>\n",
              "    .dataframe tbody tr th:only-of-type {\n",
              "        vertical-align: middle;\n",
              "    }\n",
              "\n",
              "    .dataframe tbody tr th {\n",
              "        vertical-align: top;\n",
              "    }\n",
              "\n",
              "    .dataframe thead th {\n",
              "        text-align: right;\n",
              "    }\n",
              "</style>\n",
              "<table border=\"1\" class=\"dataframe\">\n",
              "  <thead>\n",
              "    <tr style=\"text-align: right;\">\n",
              "      <th></th>\n",
              "      <th>User ID</th>\n",
              "      <th>Gender</th>\n",
              "      <th>Age</th>\n",
              "      <th>EstimatedSalary</th>\n",
              "      <th>Purchased</th>\n",
              "    </tr>\n",
              "  </thead>\n",
              "  <tbody>\n",
              "    <tr>\n",
              "      <th>0</th>\n",
              "      <td>15624510</td>\n",
              "      <td>Male</td>\n",
              "      <td>19</td>\n",
              "      <td>19000</td>\n",
              "      <td>0</td>\n",
              "    </tr>\n",
              "    <tr>\n",
              "      <th>1</th>\n",
              "      <td>15810944</td>\n",
              "      <td>Male</td>\n",
              "      <td>35</td>\n",
              "      <td>20000</td>\n",
              "      <td>0</td>\n",
              "    </tr>\n",
              "    <tr>\n",
              "      <th>2</th>\n",
              "      <td>15668575</td>\n",
              "      <td>Female</td>\n",
              "      <td>26</td>\n",
              "      <td>43000</td>\n",
              "      <td>0</td>\n",
              "    </tr>\n",
              "    <tr>\n",
              "      <th>3</th>\n",
              "      <td>15603246</td>\n",
              "      <td>Female</td>\n",
              "      <td>27</td>\n",
              "      <td>57000</td>\n",
              "      <td>0</td>\n",
              "    </tr>\n",
              "    <tr>\n",
              "      <th>4</th>\n",
              "      <td>15804002</td>\n",
              "      <td>Male</td>\n",
              "      <td>19</td>\n",
              "      <td>76000</td>\n",
              "      <td>0</td>\n",
              "    </tr>\n",
              "  </tbody>\n",
              "</table>\n",
              "</div>"
            ],
            "text/plain": [
              "    User ID  Gender  Age  EstimatedSalary  Purchased\n",
              "0  15624510    Male   19            19000          0\n",
              "1  15810944    Male   35            20000          0\n",
              "2  15668575  Female   26            43000          0\n",
              "3  15603246  Female   27            57000          0\n",
              "4  15804002    Male   19            76000          0"
            ]
          },
          "metadata": {
            "tags": []
          },
          "execution_count": 20
        }
      ]
    },
    {
      "cell_type": "code",
      "metadata": {
        "colab_type": "code",
        "id": "DzEf0bqwcxWc",
        "colab": {}
      },
      "source": [
        "X = dataset.iloc[:, [2, 3]].values\n",
        "y = dataset.iloc[:, 4].values\n",
        "\n",
        "X_train, X_test, y_train, y_test = train_test_split(X, y, test_size = 0.25, random_state = 0)\n",
        "\n",
        "\n",
        "sc = StandardScaler()\n",
        "X_train = sc.fit_transform(X_train)\n",
        "X_test = sc.transform(X_test)\n",
        "\n",
        "\n",
        "X_train, X_test, y_train, y_test = train_test_split(X, y, test_size = 0.2, random_state = 0)"
      ],
      "execution_count": null,
      "outputs": []
    },
    {
      "cell_type": "markdown",
      "metadata": {
        "colab_type": "text",
        "id": "efnrpXQZcxWi"
      },
      "source": [
        "Let's observe what will we get if we apply Logistic regression directly?"
      ]
    },
    {
      "cell_type": "code",
      "metadata": {
        "colab_type": "code",
        "id": "DI6MZuXwcxWl",
        "colab": {
          "base_uri": "https://localhost:8080/",
          "height": 53
        },
        "outputId": "d68f7ae3-ee76-4e09-c0fb-aad871acc8bf"
      },
      "source": [
        "classifier = LogisticRegression()\n",
        "classifier.fit(X_train, y_train)\n",
        "\n",
        "\n",
        "y_pred = classifier.predict(X_test)\n",
        "\n",
        "confusion_matrix(y_test, y_pred)"
      ],
      "execution_count": null,
      "outputs": [
        {
          "output_type": "execute_result",
          "data": {
            "text/plain": [
              "array([[58,  0],\n",
              "       [22,  0]])"
            ]
          },
          "metadata": {
            "tags": []
          },
          "execution_count": 22
        }
      ]
    },
    {
      "cell_type": "markdown",
      "metadata": {
        "colab_type": "text",
        "id": "itBgUMcXcxWq"
      },
      "source": [
        "That is a pretty bad performance.Let's try kernel PCA"
      ]
    },
    {
      "cell_type": "code",
      "metadata": {
        "colab_type": "code",
        "id": "Ozi3sJLocxWq",
        "colab": {}
      },
      "source": [
        "from sklearn.decomposition import KernelPCA\n",
        "\n",
        "kpca = KernelPCA(n_components = 2, kernel = 'linear')\n",
        "X_train = kpca.fit_transform(X_train)\n",
        "X_test = kpca.transform(X_test)"
      ],
      "execution_count": null,
      "outputs": []
    },
    {
      "cell_type": "code",
      "metadata": {
        "colab_type": "code",
        "id": "ZdfvwkiKcxWt",
        "colab": {
          "base_uri": "https://localhost:8080/",
          "height": 53
        },
        "outputId": "77f8e1e8-9103-43f3-f728-7ff17fdcec88"
      },
      "source": [
        "classifier = LogisticRegression()\n",
        "classifier.fit(X_train, y_train)\n",
        "\n",
        "\n",
        "y_pred = classifier.predict(X_test)\n",
        "\n",
        "confusion_matrix(y_test, y_pred)"
      ],
      "execution_count": null,
      "outputs": [
        {
          "output_type": "execute_result",
          "data": {
            "text/plain": [
              "array([[50,  8],\n",
              "       [ 1, 21]])"
            ]
          },
          "metadata": {
            "tags": []
          },
          "execution_count": 24
        }
      ]
    },
    {
      "cell_type": "markdown",
      "metadata": {
        "id": "xQ2zd2UuI8uA",
        "colab_type": "text"
      },
      "source": [
        "This was a big improvement. \n"
      ]
    },
    {
      "cell_type": "markdown",
      "metadata": {
        "id": "DxOFPFaGNdGX",
        "colab_type": "text"
      },
      "source": [
        "**<h3> Non-linear PCA**\n",
        "\n",
        "The above was an example of a linear kernel PCA. Let's try another example without using the linear kernel."
      ]
    },
    {
      "cell_type": "code",
      "metadata": {
        "id": "HtDm03EzI8uB",
        "colab_type": "code",
        "colab": {
          "base_uri": "https://localhost:8080/",
          "height": 265
        },
        "outputId": "cf1ef011-3eea-4679-ca15-e6f9ab171554"
      },
      "source": [
        "from sklearn.datasets import make_moons \n",
        "\n",
        "X, y = make_moons(n_samples = 500, noise = 0.02, random_state = 417) \n",
        "\n",
        "plt.scatter(X[:, 0], X[:, 1], c = y) \n",
        "plt.show() \n"
      ],
      "execution_count": null,
      "outputs": [
        {
          "output_type": "display_data",
          "data": {
            "image/png": "[encoded data removed]",
            "text/plain": [
              "<Figure size 432x288 with 1 Axes>"
            ]
          },
          "metadata": {
            "tags": [],
            "needs_background": "light"
          }
        }
      ]
    },
    {
      "cell_type": "code",
      "metadata": {
        "id": "LHODUNyeI8uF",
        "colab_type": "code",
        "colab": {
          "base_uri": "https://localhost:8080/",
          "height": 295
        },
        "outputId": "146dc549-031c-4ff2-c8e5-a32debdd31e9"
      },
      "source": [
        "X_pca = kpca.fit_transform(X) \n",
        "\n",
        "plt.title(\"PCA\") \n",
        "plt.scatter(X_pca[:, 0], X_pca[:, 1], c = y) \n",
        "plt.xlabel(\"Component 1\") \n",
        "plt.ylabel(\"Component 2\") \n",
        "\n",
        "plt.show() \n"
      ],
      "execution_count": null,
      "outputs": [
        {
          "output_type": "display_data",
          "data": {
            "image/png": "[encoded data removed]",
            "text/plain": [
              "<Figure size 432x288 with 1 Axes>"
            ]
          },
          "metadata": {
            "tags": [],
            "needs_background": "light"
          }
        }
      ]
    },
    {
      "cell_type": "markdown",
      "metadata": {
        "id": "ANho17C4I8uH",
        "colab_type": "text"
      },
      "source": [
        "From the above graph we can see that PCA fails to distinguish between the two classes."
      ]
    },
    {
      "cell_type": "code",
      "metadata": {
        "id": "UFr_3QK-I8uJ",
        "colab_type": "code",
        "colab": {
          "base_uri": "https://localhost:8080/",
          "height": 281
        },
        "outputId": "bad65af9-20c3-49e6-9dc2-cbcca70cb62f"
      },
      "source": [
        "kpca = KernelPCA(kernel ='rbf', gamma = 15) \n",
        "X_kpca = kpca.fit_transform(X) \n",
        "\n",
        "plt.title(\"Kernel PCA\") \n",
        "plt.scatter(X_kpca[:, 0], X_kpca[:, 1], c = y) \n",
        "plt.show() \n"
      ],
      "execution_count": null,
      "outputs": [
        {
          "output_type": "display_data",
          "data": {
            "image/png": "[encoded data removed]",
            "text/plain": [
              "<Figure size 432x288 with 1 Axes>"
            ]
          },
          "metadata": {
            "tags": [],
            "needs_background": "light"
          }
        }
      ]
    },
    {
      "cell_type": "markdown",
      "metadata": {
        "id": "PPDKkpQqI8uM",
        "colab_type": "text"
      },
      "source": [
        "Here, we see that Kernel PCA succesfully distinguish between the two curves."
      ]
    },
    {
      "cell_type": "markdown",
      "metadata": {
        "id": "PCTwYptLI8uO",
        "colab_type": "text"
      },
      "source": [
        "**<h3>Congratulations on covering the basic concepts of Dimensionality Reduction !**\n",
        "To know more techniques or to know more about this topic check out this [link](https://www.analyticsvidhya.com/blog/2018/08/dimensionality-reduction-techniques-python/)."
      ]
    },
    {
      "cell_type": "markdown",
      "metadata": {
        "colab_type": "text",
        "id": "xnLkuC2GcxW0"
      },
      "source": [
        "**<h2> Model Selections**"
      ]
    },
    {
      "cell_type": "markdown",
      "metadata": {
        "colab_type": "text",
        "id": "b4iD7PjTcxW1"
      },
      "source": [
        "**<h2> K Fold Cross Validation**\n",
        "\n",
        "The above implemented ML models are actually not accurate as we did not train on one the whole dataset.  \n",
        "There is a possibility that we got a high accuracy by chance as the data we splited wasn't distributed evenly.\n",
        "For this we use K fold cross validation.  \n",
        "\n",
        "![image.png](data:image/png;base64,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)\n",
        "\n",
        "\n",
        "Learn more about it [here](https://scikit-learn.org/stable/modules/cross_validation.html). Check out why we use it [here](https://towardsdatascience.com/5-reasons-why-you-should-use-cross-validation-in-your-data-science-project-8163311a1e79)."
      ]
    },
    {
      "cell_type": "code",
      "metadata": {
        "colab_type": "code",
        "id": "2ZSLmv85cxW2",
        "colab": {
          "base_uri": "https://localhost:8080/",
          "height": 206
        },
        "outputId": "100377d8-a520-405e-bb17-600d13a23433"
      },
      "source": [
        "dataset = pd.read_csv(url)\n",
        "dataset.head()"
      ],
      "execution_count": null,
      "outputs": [
        {
          "output_type": "execute_result",
          "data": {
            "text/html": [
              "<div>\n",
              "<style scoped>\n",
              "    .dataframe tbody tr th:only-of-type {\n",
              "        vertical-align: middle;\n",
              "    }\n",
              "\n",
              "    .dataframe tbody tr th {\n",
              "        vertical-align: top;\n",
              "    }\n",
              "\n",
              "    .dataframe thead th {\n",
              "        text-align: right;\n",
              "    }\n",
              "</style>\n",
              "<table border=\"1\" class=\"dataframe\">\n",
              "  <thead>\n",
              "    <tr style=\"text-align: right;\">\n",
              "      <th></th>\n",
              "      <th>User ID</th>\n",
              "      <th>Gender</th>\n",
              "      <th>Age</th>\n",
              "      <th>EstimatedSalary</th>\n",
              "      <th>Purchased</th>\n",
              "    </tr>\n",
              "  </thead>\n",
              "  <tbody>\n",
              "    <tr>\n",
              "      <th>0</th>\n",
              "      <td>15624510</td>\n",
              "      <td>Male</td>\n",
              "      <td>19</td>\n",
              "      <td>19000</td>\n",
              "      <td>0</td>\n",
              "    </tr>\n",
              "    <tr>\n",
              "      <th>1</th>\n",
              "      <td>15810944</td>\n",
              "      <td>Male</td>\n",
              "      <td>35</td>\n",
              "      <td>20000</td>\n",
              "      <td>0</td>\n",
              "    </tr>\n",
              "    <tr>\n",
              "      <th>2</th>\n",
              "      <td>15668575</td>\n",
              "      <td>Female</td>\n",
              "      <td>26</td>\n",
              "      <td>43000</td>\n",
              "      <td>0</td>\n",
              "    </tr>\n",
              "    <tr>\n",
              "      <th>3</th>\n",
              "      <td>15603246</td>\n",
              "      <td>Female</td>\n",
              "      <td>27</td>\n",
              "      <td>57000</td>\n",
              "      <td>0</td>\n",
              "    </tr>\n",
              "    <tr>\n",
              "      <th>4</th>\n",
              "      <td>15804002</td>\n",
              "      <td>Male</td>\n",
              "      <td>19</td>\n",
              "      <td>76000</td>\n",
              "      <td>0</td>\n",
              "    </tr>\n",
              "  </tbody>\n",
              "</table>\n",
              "</div>"
            ],
            "text/plain": [
              "    User ID  Gender  Age  EstimatedSalary  Purchased\n",
              "0  15624510    Male   19            19000          0\n",
              "1  15810944    Male   35            20000          0\n",
              "2  15668575  Female   26            43000          0\n",
              "3  15603246  Female   27            57000          0\n",
              "4  15804002    Male   19            76000          0"
            ]
          },
          "metadata": {
            "tags": []
          },
          "execution_count": 28
        }
      ]
    },
    {
      "cell_type": "code",
      "metadata": {
        "colab_type": "code",
        "id": "lwOBJr1acxW4",
        "colab": {}
      },
      "source": [
        "X = dataset.iloc[:, [2, 3]].values\n",
        "y = dataset.iloc[:, 4].values"
      ],
      "execution_count": null,
      "outputs": []
    },
    {
      "cell_type": "code",
      "metadata": {
        "colab_type": "code",
        "id": "UDCYmrrxcxW-",
        "colab": {}
      },
      "source": [
        "from sklearn.model_selection import cross_val_score\n",
        "classifier = LogisticRegression()\n",
        "scores = cross_val_score(classifier,X,y,cv=5)"
      ],
      "execution_count": null,
      "outputs": []
    },
    {
      "cell_type": "code",
      "metadata": {
        "colab_type": "code",
        "id": "poV-xrVwcxXB",
        "colab": {
          "base_uri": "https://localhost:8080/",
          "height": 35
        },
        "outputId": "673bed8b-5d00-491d-d39f-1fe0e6556079"
      },
      "source": [
        "scores"
      ],
      "execution_count": null,
      "outputs": [
        {
          "output_type": "execute_result",
          "data": {
            "text/plain": [
              "array([0.65  , 0.65  , 0.6375, 0.8125, 0.625 ])"
            ]
          },
          "metadata": {
            "tags": []
          },
          "execution_count": 31
        }
      ]
    },
    {
      "cell_type": "markdown",
      "metadata": {
        "colab_type": "text",
        "id": "561ffZtXcxXG"
      },
      "source": [
        "The dataset was divided in 5 equal parts and each time one of the part was used as test set and rest as training.  \n",
        "The final model was trained on whole dataset and the mean of the scores gives us the final accuracy."
      ]
    },
    {
      "cell_type": "code",
      "metadata": {
        "colab_type": "code",
        "id": "h0VLW_VYcxXH",
        "colab": {
          "base_uri": "https://localhost:8080/",
          "height": 35
        },
        "outputId": "84e29415-4d9f-42ca-966b-26f85a965942"
      },
      "source": [
        "np.mean(scores)"
      ],
      "execution_count": null,
      "outputs": [
        {
          "output_type": "execute_result",
          "data": {
            "text/plain": [
              "0.675"
            ]
          },
          "metadata": {
            "tags": []
          },
          "execution_count": 32
        }
      ]
    },
    {
      "cell_type": "code",
      "metadata": {
        "colab_type": "code",
        "id": "1zR8n_obcxXM",
        "colab": {}
      },
      "source": [
        "kpca = KernelPCA(n_components = 2, kernel = 'linear')\n",
        "X = kpca.fit_transform(X)\n",
        "classifier = LogisticRegression()\n",
        "scores = cross_val_score(classifier,X,y,cv=5)"
      ],
      "execution_count": null,
      "outputs": []
    },
    {
      "cell_type": "code",
      "metadata": {
        "colab_type": "code",
        "id": "nd5c_l4UcxXO",
        "colab": {
          "base_uri": "https://localhost:8080/",
          "height": 35
        },
        "outputId": "caab7764-67ff-482b-d6a0-313c8440bdcd"
      },
      "source": [
        "np.mean(scores)"
      ],
      "execution_count": null,
      "outputs": [
        {
          "output_type": "execute_result",
          "data": {
            "text/plain": [
              "0.765"
            ]
          },
          "metadata": {
            "tags": []
          },
          "execution_count": 34
        }
      ]
    },
    {
      "cell_type": "markdown",
      "metadata": {
        "colab_type": "text",
        "id": "8ncOGpIIcxXZ"
      },
      "source": [
        "**<h2> Grid Search**\n",
        "\n",
        "Grid Search is the best way to deal with hyperparameters.It helps in tuning hyperparameters, to give you the best result.In order to do so , you must provide it with the parameters you wish to change.\n"
      ]
    },
    {
      "cell_type": "code",
      "metadata": {
        "colab_type": "code",
        "id": "1SCPxXLbcxXa",
        "colab": {}
      },
      "source": [
        "dataset = pd.read_csv(url)\n",
        "X = dataset.iloc[:, [2, 3]].values\n",
        "y = dataset.iloc[:, 4].values\n",
        "X_train, X_test, y_train, y_test = train_test_split(X, y, test_size = 0.2, random_state = 0)"
      ],
      "execution_count": null,
      "outputs": []
    },
    {
      "cell_type": "code",
      "metadata": {
        "colab_type": "code",
        "id": "lnYlTaJxcxXc",
        "colab": {
          "base_uri": "https://localhost:8080/",
          "height": 53
        },
        "outputId": "71c1a2a5-dd28-4189-e96c-dcdc74f5f59c"
      },
      "source": [
        "from sklearn.model_selection import GridSearchCV\n",
        "from sklearn.neighbors import KNeighborsClassifier\n",
        "\n",
        "\n",
        "classifier = KNeighborsClassifier()\n",
        "grid_values = {\n",
        "    'n_neighbors': [1,2,3,4,5,6,7,8,9,10],\n",
        "               'p':[1,2]\n",
        "    }\n",
        "grid_clf_acc = GridSearchCV(classifier, param_grid = grid_values)\n",
        "grid_clf_acc.fit(X_train, y_train)\n",
        "\n",
        "#Predict values based on new parameters\n",
        "y_pred = grid_clf_acc.predict(X_test)\n",
        "confusion_matrix(y_test, y_pred)"
      ],
      "execution_count": null,
      "outputs": [
        {
          "output_type": "execute_result",
          "data": {
            "text/plain": [
              "array([[48, 10],\n",
              "       [ 7, 15]])"
            ]
          },
          "metadata": {
            "tags": []
          },
          "execution_count": 40
        }
      ]
    },
    {
      "cell_type": "code",
      "metadata": {
        "colab_type": "code",
        "id": "g1olkVnKcxXl",
        "colab": {
          "base_uri": "https://localhost:8080/",
          "height": 35
        },
        "outputId": "3f44d33f-2759-4ac4-a240-1825048c3837"
      },
      "source": [
        "grid_clf_acc.best_params_"
      ],
      "execution_count": null,
      "outputs": [
        {
          "output_type": "execute_result",
          "data": {
            "text/plain": [
              "{'n_neighbors': 3, 'p': 1}"
            ]
          },
          "metadata": {
            "tags": []
          },
          "execution_count": 41
        }
      ]
    },
    {
      "cell_type": "markdown",
      "metadata": {
        "colab_type": "text",
        "id": "5yp9e0TGcxXo"
      },
      "source": [
        "So we got the best paramters within a single line of code\n",
        "Once we get the best paramters we can can use cross val score"
      ]
    },
    {
      "cell_type": "markdown",
      "metadata": {
        "id": "DBkkeSefI8u2",
        "colab_type": "text"
      },
      "source": [
        "**<h2>Stacking**\n",
        "    \n",
        "* Ensemble Learning:\n",
        "\n",
        "Ensemble Learning is a technique which combines multiple models to give a better overall performance.This can be achieved in various ways, one of which is Stacking.\n",
        "\n",
        "* Stacking:\n",
        "\n",
        "It is an advance ensemble learning technique that uses predictions from multiple models to build a new model.This model is then used for making predictions on a test set. This is popular technique used in data science competitions.\n",
        "\n",
        "Read more about Ensemble Learning and Stacking [here](https://www.analyticsvidhya.com/blog/2018/06/comprehensive-guide-for-ensemble-models/)."
      ]
    },
    {
      "cell_type": "code",
      "metadata": {
        "id": "em0JhomVI8u2",
        "colab_type": "code",
        "colab": {
          "base_uri": "https://localhost:8080/",
          "height": 206
        },
        "outputId": "d0d5aa15-8d2f-420f-ec20-6036fb4476ad"
      },
      "source": [
        "dataset.head()"
      ],
      "execution_count": null,
      "outputs": [
        {
          "output_type": "execute_result",
          "data": {
            "text/html": [
              "<div>\n",
              "<style scoped>\n",
              "    .dataframe tbody tr th:only-of-type {\n",
              "        vertical-align: middle;\n",
              "    }\n",
              "\n",
              "    .dataframe tbody tr th {\n",
              "        vertical-align: top;\n",
              "    }\n",
              "\n",
              "    .dataframe thead th {\n",
              "        text-align: right;\n",
              "    }\n",
              "</style>\n",
              "<table border=\"1\" class=\"dataframe\">\n",
              "  <thead>\n",
              "    <tr style=\"text-align: right;\">\n",
              "      <th></th>\n",
              "      <th>User ID</th>\n",
              "      <th>Gender</th>\n",
              "      <th>Age</th>\n",
              "      <th>EstimatedSalary</th>\n",
              "      <th>Purchased</th>\n",
              "    </tr>\n",
              "  </thead>\n",
              "  <tbody>\n",
              "    <tr>\n",
              "      <th>0</th>\n",
              "      <td>15624510</td>\n",
              "      <td>Male</td>\n",
              "      <td>19</td>\n",
              "      <td>19000</td>\n",
              "      <td>0</td>\n",
              "    </tr>\n",
              "    <tr>\n",
              "      <th>1</th>\n",
              "      <td>15810944</td>\n",
              "      <td>Male</td>\n",
              "      <td>35</td>\n",
              "      <td>20000</td>\n",
              "      <td>0</td>\n",
              "    </tr>\n",
              "    <tr>\n",
              "      <th>2</th>\n",
              "      <td>15668575</td>\n",
              "      <td>Female</td>\n",
              "      <td>26</td>\n",
              "      <td>43000</td>\n",
              "      <td>0</td>\n",
              "    </tr>\n",
              "    <tr>\n",
              "      <th>3</th>\n",
              "      <td>15603246</td>\n",
              "      <td>Female</td>\n",
              "      <td>27</td>\n",
              "      <td>57000</td>\n",
              "      <td>0</td>\n",
              "    </tr>\n",
              "    <tr>\n",
              "      <th>4</th>\n",
              "      <td>15804002</td>\n",
              "      <td>Male</td>\n",
              "      <td>19</td>\n",
              "      <td>76000</td>\n",
              "      <td>0</td>\n",
              "    </tr>\n",
              "  </tbody>\n",
              "</table>\n",
              "</div>"
            ],
            "text/plain": [
              "    User ID  Gender  Age  EstimatedSalary  Purchased\n",
              "0  15624510    Male   19            19000          0\n",
              "1  15810944    Male   35            20000          0\n",
              "2  15668575  Female   26            43000          0\n",
              "3  15603246  Female   27            57000          0\n",
              "4  15804002    Male   19            76000          0"
            ]
          },
          "metadata": {
            "tags": []
          },
          "execution_count": 42
        }
      ]
    },
    {
      "cell_type": "code",
      "metadata": {
        "id": "tuJC5zbaI8u4",
        "colab_type": "code",
        "colab": {
          "base_uri": "https://localhost:8080/",
          "height": 72
        },
        "outputId": "7c3b9938-4ac2-4f97-f070-f52b8895a35d"
      },
      "source": [
        "dataset['Purchased'].value_counts()"
      ],
      "execution_count": null,
      "outputs": [
        {
          "output_type": "execute_result",
          "data": {
            "text/plain": [
              "0    257\n",
              "1    143\n",
              "Name: Purchased, dtype: int64"
            ]
          },
          "metadata": {
            "tags": []
          },
          "execution_count": 43
        }
      ]
    },
    {
      "cell_type": "code",
      "metadata": {
        "id": "fk66QJNsI8u-",
        "colab_type": "code",
        "colab": {}
      },
      "source": [
        "from sklearn.pipeline import make_pipeline\n",
        "from sklearn.ensemble import StackingClassifier\n",
        "from sklearn.ensemble import RandomForestClassifier\n",
        "\n",
        "estimators = [('knn',KNeighborsClassifier()),('lr',LogisticRegression()),('rf',RandomForestClassifier())]\n",
        "clf = StackingClassifier(estimators=estimators, final_estimator=LogisticRegression())"
      ],
      "execution_count": null,
      "outputs": []
    },
    {
      "cell_type": "code",
      "metadata": {
        "id": "OPSNOkfNI8vB",
        "colab_type": "code",
        "colab": {}
      },
      "source": [
        "X_train, X_test, y_train, y_test = train_test_split(X, y, test_size = 0.2, random_state = 0)"
      ],
      "execution_count": null,
      "outputs": []
    },
    {
      "cell_type": "code",
      "metadata": {
        "id": "cmlmVTlkI8vE",
        "colab_type": "code",
        "colab": {}
      },
      "source": [
        "clf.fit(X_train,y_train)\n",
        "y_pred=clf.predict(X_test)"
      ],
      "execution_count": null,
      "outputs": []
    },
    {
      "cell_type": "code",
      "metadata": {
        "id": "Z-TJ6Rc9I8vI",
        "colab_type": "code",
        "colab": {
          "base_uri": "https://localhost:8080/",
          "height": 181
        },
        "outputId": "61f2f7cc-3ce8-4470-9ccd-0f2b8938c576"
      },
      "source": [
        "y_pred=clf.predict(X_test)\n",
        "print(report_classification(y_test,y_pred))"
      ],
      "execution_count": null,
      "outputs": [
        {
          "output_type": "stream",
          "text": [
            "              precision    recall  f1-score   support\n",
            "\n",
            "           0       0.96      0.95      0.96        58\n",
            "           1       0.87      0.91      0.89        22\n",
            "\n",
            "    accuracy                           0.94        80\n",
            "   macro avg       0.92      0.93      0.92        80\n",
            "weighted avg       0.94      0.94      0.94        80\n",
            "\n"
          ],
          "name": "stdout"
        }
      ]
    },
    {
      "cell_type": "markdown",
      "metadata": {
        "id": "2qfIwjidOqLa",
        "colab_type": "text"
      },
      "source": [
        "The F1 score dictates a good performance by the model."
      ]
    },
    {
      "cell_type": "markdown",
      "metadata": {
        "id": "PVjVp6ujO143",
        "colab_type": "text"
      },
      "source": [
        "**<h2>Congratulations on completing this week's notebook!**"
      ]
    }
  ]
}